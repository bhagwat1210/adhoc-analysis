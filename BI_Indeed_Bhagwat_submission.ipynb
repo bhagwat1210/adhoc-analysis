{
 "cells": [
  {
   "cell_type": "markdown",
   "metadata": {},
   "source": [
    "# Assignment on NEISS DATA.\n",
    "## AUTHOR : Bhagwat Singh Bisht\n",
    "## Version 1"
   ]
  },
  {
   "cell_type": "markdown",
   "metadata": {},
   "source": [
    "# Data cleaning : Largely dataset was clean and missing value were negligible. I converted the trmt_date to datetime format to be able to extract day out of it. \n",
    "\n"
   ]
  },
  {
   "cell_type": "code",
   "execution_count": 1,
   "metadata": {
    "collapsed": false
   },
   "outputs": [],
   "source": [
    "## libraries required.\n",
    "\n",
    "import numpy as np\n",
    "import pandas as pd\n",
    "import statsmodels.api as sm1\n",
    "import statsmodels.formula.api as sm\n",
    "import matplotlib.pyplot as plt\n",
    "%matplotlib inline"
   ]
  },
  {
   "cell_type": "code",
   "execution_count": 2,
   "metadata": {
    "collapsed": false
   },
   "outputs": [],
   "source": [
    "## reading the datasets\n",
    "\n",
    "Dia_code  = pd.read_csv('DiagnosisCodes.csv')\n",
    "Disposition = pd.read_csv('Disposition.csv')\n",
    "Body_part = pd.read_csv('BodyParts.csv')\n",
    "N_data = pd.read_csv('NEISS2014.csv')"
   ]
  },
  {
   "cell_type": "code",
   "execution_count": 3,
   "metadata": {
    "collapsed": false
   },
   "outputs": [
    {
     "data": {
      "text/html": [
       "<div>\n",
       "<table border=\"1\" class=\"dataframe\">\n",
       "  <thead>\n",
       "    <tr style=\"text-align: right;\">\n",
       "      <th></th>\n",
       "      <th>CPSC Case #</th>\n",
       "      <th>psu</th>\n",
       "      <th>weight</th>\n",
       "      <th>age</th>\n",
       "      <th>diag</th>\n",
       "      <th>body_part</th>\n",
       "      <th>disposition</th>\n",
       "      <th>location</th>\n",
       "      <th>fmv</th>\n",
       "      <th>prod1</th>\n",
       "      <th>prod2</th>\n",
       "    </tr>\n",
       "  </thead>\n",
       "  <tbody>\n",
       "    <tr>\n",
       "      <th>count</th>\n",
       "      <td>6.549900e+04</td>\n",
       "      <td>65499.000000</td>\n",
       "      <td>65499.000000</td>\n",
       "      <td>65499.000000</td>\n",
       "      <td>65499.000000</td>\n",
       "      <td>65499.000000</td>\n",
       "      <td>65499.000000</td>\n",
       "      <td>65499.000000</td>\n",
       "      <td>65499.000000</td>\n",
       "      <td>65499.000000</td>\n",
       "      <td>8446.000000</td>\n",
       "    </tr>\n",
       "    <tr>\n",
       "      <th>mean</th>\n",
       "      <td>1.411328e+08</td>\n",
       "      <td>46.551321</td>\n",
       "      <td>46.627602</td>\n",
       "      <td>43.224431</td>\n",
       "      <td>59.983618</td>\n",
       "      <td>64.188873</td>\n",
       "      <td>1.267775</td>\n",
       "      <td>2.403548</td>\n",
       "      <td>0.008122</td>\n",
       "      <td>2107.615735</td>\n",
       "      <td>1845.662207</td>\n",
       "    </tr>\n",
       "    <tr>\n",
       "      <th>std</th>\n",
       "      <td>1.993606e+06</td>\n",
       "      <td>27.253670</td>\n",
       "      <td>35.649986</td>\n",
       "      <td>48.191852</td>\n",
       "      <td>6.133152</td>\n",
       "      <td>24.066252</td>\n",
       "      <td>0.918464</td>\n",
       "      <td>3.194460</td>\n",
       "      <td>0.141298</td>\n",
       "      <td>1334.875187</td>\n",
       "      <td>1104.161811</td>\n",
       "    </tr>\n",
       "    <tr>\n",
       "      <th>min</th>\n",
       "      <td>1.401047e+08</td>\n",
       "      <td>1.000000</td>\n",
       "      <td>5.717400</td>\n",
       "      <td>0.000000</td>\n",
       "      <td>41.000000</td>\n",
       "      <td>0.000000</td>\n",
       "      <td>1.000000</td>\n",
       "      <td>0.000000</td>\n",
       "      <td>0.000000</td>\n",
       "      <td>106.000000</td>\n",
       "      <td>102.000000</td>\n",
       "    </tr>\n",
       "    <tr>\n",
       "      <th>25%</th>\n",
       "      <td>1.404360e+08</td>\n",
       "      <td>23.000000</td>\n",
       "      <td>14.308900</td>\n",
       "      <td>12.500000</td>\n",
       "      <td>57.000000</td>\n",
       "      <td>35.000000</td>\n",
       "      <td>1.000000</td>\n",
       "      <td>0.000000</td>\n",
       "      <td>0.000000</td>\n",
       "      <td>1211.000000</td>\n",
       "      <td>1141.000000</td>\n",
       "    </tr>\n",
       "    <tr>\n",
       "      <th>50%</th>\n",
       "      <td>1.407254e+08</td>\n",
       "      <td>42.000000</td>\n",
       "      <td>37.414900</td>\n",
       "      <td>28.000000</td>\n",
       "      <td>59.000000</td>\n",
       "      <td>75.000000</td>\n",
       "      <td>1.000000</td>\n",
       "      <td>1.000000</td>\n",
       "      <td>0.000000</td>\n",
       "      <td>1807.000000</td>\n",
       "      <td>1807.000000</td>\n",
       "    </tr>\n",
       "    <tr>\n",
       "      <th>75%</th>\n",
       "      <td>1.410314e+08</td>\n",
       "      <td>66.000000</td>\n",
       "      <td>81.576000</td>\n",
       "      <td>57.000000</td>\n",
       "      <td>64.000000</td>\n",
       "      <td>82.000000</td>\n",
       "      <td>1.000000</td>\n",
       "      <td>4.000000</td>\n",
       "      <td>0.000000</td>\n",
       "      <td>3265.000000</td>\n",
       "      <td>1871.000000</td>\n",
       "    </tr>\n",
       "    <tr>\n",
       "      <th>max</th>\n",
       "      <td>1.503320e+08</td>\n",
       "      <td>101.000000</td>\n",
       "      <td>112.167100</td>\n",
       "      <td>223.000000</td>\n",
       "      <td>74.000000</td>\n",
       "      <td>94.000000</td>\n",
       "      <td>8.000000</td>\n",
       "      <td>9.000000</td>\n",
       "      <td>3.000000</td>\n",
       "      <td>5555.000000</td>\n",
       "      <td>5555.000000</td>\n",
       "    </tr>\n",
       "  </tbody>\n",
       "</table>\n",
       "</div>"
      ],
      "text/plain": [
       "        CPSC Case #           psu        weight           age          diag  \\\n",
       "count  6.549900e+04  65499.000000  65499.000000  65499.000000  65499.000000   \n",
       "mean   1.411328e+08     46.551321     46.627602     43.224431     59.983618   \n",
       "std    1.993606e+06     27.253670     35.649986     48.191852      6.133152   \n",
       "min    1.401047e+08      1.000000      5.717400      0.000000     41.000000   \n",
       "25%    1.404360e+08     23.000000     14.308900     12.500000     57.000000   \n",
       "50%    1.407254e+08     42.000000     37.414900     28.000000     59.000000   \n",
       "75%    1.410314e+08     66.000000     81.576000     57.000000     64.000000   \n",
       "max    1.503320e+08    101.000000    112.167100    223.000000     74.000000   \n",
       "\n",
       "          body_part   disposition      location           fmv         prod1  \\\n",
       "count  65499.000000  65499.000000  65499.000000  65499.000000  65499.000000   \n",
       "mean      64.188873      1.267775      2.403548      0.008122   2107.615735   \n",
       "std       24.066252      0.918464      3.194460      0.141298   1334.875187   \n",
       "min        0.000000      1.000000      0.000000      0.000000    106.000000   \n",
       "25%       35.000000      1.000000      0.000000      0.000000   1211.000000   \n",
       "50%       75.000000      1.000000      1.000000      0.000000   1807.000000   \n",
       "75%       82.000000      1.000000      4.000000      0.000000   3265.000000   \n",
       "max       94.000000      8.000000      9.000000      3.000000   5555.000000   \n",
       "\n",
       "             prod2  \n",
       "count  8446.000000  \n",
       "mean   1845.662207  \n",
       "std    1104.161811  \n",
       "min     102.000000  \n",
       "25%    1141.000000  \n",
       "50%    1807.000000  \n",
       "75%    1871.000000  \n",
       "max    5555.000000  "
      ]
     },
     "execution_count": 3,
     "metadata": {},
     "output_type": "execute_result"
    }
   ],
   "source": [
    "## looking at the data : Descriptive analysis \n",
    "\n",
    "## Since age is taken as three digit representation for all age smaller than 2 years\n",
    "##  the discriptive statistics for age is misleading here\n",
    "\n",
    "N_data.describe()"
   ]
  },
  {
   "cell_type": "code",
   "execution_count": 4,
   "metadata": {
    "collapsed": false
   },
   "outputs": [
    {
     "name": "stdout",
     "output_type": "stream",
     "text": [
      "<class 'pandas.core.frame.DataFrame'>\n",
      "RangeIndex: 65499 entries, 0 to 65498\n",
      "Data columns (total 18 columns):\n",
      "CPSC Case #    65499 non-null int64\n",
      "trmt_date      65499 non-null object\n",
      "psu            65499 non-null int64\n",
      "weight         65499 non-null float64\n",
      "stratum        65499 non-null object\n",
      "age            65499 non-null int64\n",
      "sex            65499 non-null object\n",
      "race           65499 non-null object\n",
      "race_other     3577 non-null object\n",
      "diag           65499 non-null int64\n",
      "diag_other     8119 non-null object\n",
      "body_part      65499 non-null int64\n",
      "disposition    65499 non-null int64\n",
      "location       65499 non-null int64\n",
      "fmv            65499 non-null int64\n",
      "prod1          65499 non-null int64\n",
      "prod2          8446 non-null float64\n",
      "narrative      65499 non-null object\n",
      "dtypes: float64(2), int64(9), object(7)\n",
      "memory usage: 9.0+ MB\n"
     ]
    }
   ],
   "source": [
    "N_data.info()"
   ]
  },
  {
   "cell_type": "code",
   "execution_count": 5,
   "metadata": {
    "collapsed": true
   },
   "outputs": [],
   "source": [
    "## converting the trmt_date to date datatype \n",
    "\n",
    "N_data['trmt_date'] = pd.to_datetime(N_data.trmt_date)"
   ]
  },
  {
   "cell_type": "code",
   "execution_count": 6,
   "metadata": {
    "collapsed": false
   },
   "outputs": [
    {
     "data": {
      "text/html": [
       "<div>\n",
       "<table border=\"1\" class=\"dataframe\">\n",
       "  <thead>\n",
       "    <tr style=\"text-align: right;\">\n",
       "      <th></th>\n",
       "      <th>Diagnosis</th>\n",
       "      <th>Code</th>\n",
       "    </tr>\n",
       "  </thead>\n",
       "  <tbody>\n",
       "    <tr>\n",
       "      <th>0</th>\n",
       "      <td>Amputation</td>\n",
       "      <td>50</td>\n",
       "    </tr>\n",
       "    <tr>\n",
       "      <th>1</th>\n",
       "      <td>Anoxia</td>\n",
       "      <td>65</td>\n",
       "    </tr>\n",
       "  </tbody>\n",
       "</table>\n",
       "</div>"
      ],
      "text/plain": [
       "    Diagnosis  Code\n",
       "0  Amputation    50\n",
       "1      Anoxia    65"
      ]
     },
     "execution_count": 6,
     "metadata": {},
     "output_type": "execute_result"
    }
   ],
   "source": [
    "## printing part of dataset\n",
    "\n",
    "Dia_code.head(2)"
   ]
  },
  {
   "cell_type": "code",
   "execution_count": 7,
   "metadata": {
    "collapsed": false
   },
   "outputs": [
    {
     "data": {
      "text/html": [
       "<div>\n",
       "<table border=\"1\" class=\"dataframe\">\n",
       "  <thead>\n",
       "    <tr style=\"text-align: right;\">\n",
       "      <th></th>\n",
       "      <th>Disposition</th>\n",
       "      <th>Code</th>\n",
       "    </tr>\n",
       "  </thead>\n",
       "  <tbody>\n",
       "    <tr>\n",
       "      <th>0</th>\n",
       "      <td>Treated and released, or examined and released...</td>\n",
       "      <td>1</td>\n",
       "    </tr>\n",
       "    <tr>\n",
       "      <th>1</th>\n",
       "      <td>Treated and transferred to another hospital</td>\n",
       "      <td>2</td>\n",
       "    </tr>\n",
       "  </tbody>\n",
       "</table>\n",
       "</div>"
      ],
      "text/plain": [
       "                                         Disposition  Code\n",
       "0  Treated and released, or examined and released...     1\n",
       "1        Treated and transferred to another hospital     2"
      ]
     },
     "execution_count": 7,
     "metadata": {},
     "output_type": "execute_result"
    }
   ],
   "source": [
    "## printing part of dataset\n",
    "\n",
    "Disposition.head(2)"
   ]
  },
  {
   "cell_type": "code",
   "execution_count": 8,
   "metadata": {
    "collapsed": false
   },
   "outputs": [
    {
     "data": {
      "text/html": [
       "<div>\n",
       "<table border=\"1\" class=\"dataframe\">\n",
       "  <thead>\n",
       "    <tr style=\"text-align: right;\">\n",
       "      <th></th>\n",
       "      <th>CPSC Case #</th>\n",
       "      <th>trmt_date</th>\n",
       "      <th>psu</th>\n",
       "      <th>weight</th>\n",
       "      <th>stratum</th>\n",
       "      <th>age</th>\n",
       "      <th>sex</th>\n",
       "      <th>race</th>\n",
       "      <th>race_other</th>\n",
       "      <th>diag</th>\n",
       "      <th>diag_other</th>\n",
       "      <th>body_part</th>\n",
       "      <th>disposition</th>\n",
       "      <th>location</th>\n",
       "      <th>fmv</th>\n",
       "      <th>prod1</th>\n",
       "      <th>prod2</th>\n",
       "      <th>narrative</th>\n",
       "    </tr>\n",
       "  </thead>\n",
       "  <tbody>\n",
       "    <tr>\n",
       "      <th>0</th>\n",
       "      <td>141200216</td>\n",
       "      <td>2014-10-23</td>\n",
       "      <td>63</td>\n",
       "      <td>99.704</td>\n",
       "      <td>M</td>\n",
       "      <td>21</td>\n",
       "      <td>Female</td>\n",
       "      <td>None listed</td>\n",
       "      <td>NaN</td>\n",
       "      <td>62</td>\n",
       "      <td>NaN</td>\n",
       "      <td>75</td>\n",
       "      <td>1</td>\n",
       "      <td>1</td>\n",
       "      <td>0</td>\n",
       "      <td>679</td>\n",
       "      <td>1807.0</td>\n",
       "      <td>21YOF LAYING ON THE COUCH AND ROLLED OFF TO TH...</td>\n",
       "    </tr>\n",
       "    <tr>\n",
       "      <th>1</th>\n",
       "      <td>140117851</td>\n",
       "      <td>2014-01-04</td>\n",
       "      <td>63</td>\n",
       "      <td>81.576</td>\n",
       "      <td>M</td>\n",
       "      <td>62</td>\n",
       "      <td>Female</td>\n",
       "      <td>White</td>\n",
       "      <td>NaN</td>\n",
       "      <td>57</td>\n",
       "      <td>NaN</td>\n",
       "      <td>79</td>\n",
       "      <td>1</td>\n",
       "      <td>1</td>\n",
       "      <td>0</td>\n",
       "      <td>1807</td>\n",
       "      <td>115.0</td>\n",
       "      <td>62YOF TRIPPED OVER THE CORD FOR THE VACUUM CLE...</td>\n",
       "    </tr>\n",
       "  </tbody>\n",
       "</table>\n",
       "</div>"
      ],
      "text/plain": [
       "   CPSC Case #  trmt_date  psu  weight stratum  age     sex         race  \\\n",
       "0    141200216 2014-10-23   63  99.704       M   21  Female  None listed   \n",
       "1    140117851 2014-01-04   63  81.576       M   62  Female        White   \n",
       "\n",
       "  race_other  diag diag_other  body_part  disposition  location  fmv  prod1  \\\n",
       "0        NaN    62        NaN         75            1         1    0    679   \n",
       "1        NaN    57        NaN         79            1         1    0   1807   \n",
       "\n",
       "    prod2                                          narrative  \n",
       "0  1807.0  21YOF LAYING ON THE COUCH AND ROLLED OFF TO TH...  \n",
       "1   115.0  62YOF TRIPPED OVER THE CORD FOR THE VACUUM CLE...  "
      ]
     },
     "execution_count": 8,
     "metadata": {},
     "output_type": "execute_result"
    }
   ],
   "source": [
    "## printing part of dataset\n",
    "\n",
    "N_data.head(2)"
   ]
  },
  {
   "cell_type": "markdown",
   "metadata": {},
   "source": [
    "# Question 1\n",
    "What are the top three body parts most frequently represented in this dataset?\n",
    "What are the top three body parts that are least frequently represented?\n"
   ]
  },
  {
   "cell_type": "code",
   "execution_count": 9,
   "metadata": {
    "collapsed": false
   },
   "outputs": [
    {
     "data": {
      "text/plain": [
       "0"
      ]
     },
     "execution_count": 9,
     "metadata": {},
     "output_type": "execute_result"
    }
   ],
   "source": [
    "## checking for any null value \n",
    "\n",
    "np.count_nonzero(N_data.body_part.isnull())"
   ]
  },
  {
   "cell_type": "code",
   "execution_count": 10,
   "metadata": {
    "collapsed": false
   },
   "outputs": [],
   "source": [
    "## joining tabe NEISS2014 and Bodypart dataset \n",
    "\n",
    "data_merge = pd.merge(N_data,Body_part, left_on=['body_part'],right_on =['Code'] )"
   ]
  },
  {
   "cell_type": "code",
   "execution_count": 11,
   "metadata": {
    "collapsed": false
   },
   "outputs": [
    {
     "data": {
      "text/html": [
       "<div>\n",
       "<table border=\"1\" class=\"dataframe\">\n",
       "  <thead>\n",
       "    <tr style=\"text-align: right;\">\n",
       "      <th></th>\n",
       "      <th>body_part</th>\n",
       "      <th>BodyPart</th>\n",
       "    </tr>\n",
       "  </thead>\n",
       "  <tbody>\n",
       "    <tr>\n",
       "      <th>0</th>\n",
       "      <td>75</td>\n",
       "      <td>Head</td>\n",
       "    </tr>\n",
       "    <tr>\n",
       "      <th>1</th>\n",
       "      <td>75</td>\n",
       "      <td>Head</td>\n",
       "    </tr>\n",
       "  </tbody>\n",
       "</table>\n",
       "</div>"
      ],
      "text/plain": [
       "   body_part BodyPart\n",
       "0         75     Head\n",
       "1         75     Head"
      ]
     },
     "execution_count": 11,
     "metadata": {},
     "output_type": "execute_result"
    }
   ],
   "source": [
    "## printing part of dataset\n",
    "\n",
    "data_merge[['body_part','BodyPart']].head(2)"
   ]
  },
  {
   "cell_type": "code",
   "execution_count": 12,
   "metadata": {
    "collapsed": false
   },
   "outputs": [
    {
     "data": {
      "text/html": [
       "<div>\n",
       "<table border=\"1\" class=\"dataframe\">\n",
       "  <thead>\n",
       "    <tr style=\"text-align: right;\">\n",
       "      <th></th>\n",
       "      <th>CPSC Case #</th>\n",
       "      <th>trmt_date</th>\n",
       "      <th>psu</th>\n",
       "      <th>weight</th>\n",
       "      <th>stratum</th>\n",
       "      <th>age</th>\n",
       "      <th>sex</th>\n",
       "      <th>race</th>\n",
       "      <th>race_other</th>\n",
       "      <th>diag</th>\n",
       "      <th>diag_other</th>\n",
       "      <th>body_part</th>\n",
       "      <th>disposition</th>\n",
       "      <th>location</th>\n",
       "      <th>fmv</th>\n",
       "      <th>prod1</th>\n",
       "      <th>prod2</th>\n",
       "      <th>narrative</th>\n",
       "      <th>BodyPart</th>\n",
       "      <th>Code</th>\n",
       "    </tr>\n",
       "  </thead>\n",
       "  <tbody>\n",
       "  </tbody>\n",
       "</table>\n",
       "</div>"
      ],
      "text/plain": [
       "Empty DataFrame\n",
       "Columns: [CPSC Case #, trmt_date, psu, weight, stratum, age, sex, race, race_other, diag, diag_other, body_part, disposition, location, fmv, prod1, prod2, narrative, BodyPart, Code]\n",
       "Index: []"
      ]
     },
     "execution_count": 12,
     "metadata": {},
     "output_type": "execute_result"
    }
   ],
   "source": [
    "## checking for any mismatch \n",
    "\n",
    "data_merge[data_merge.body_part<>data_merge.Code]"
   ]
  },
  {
   "cell_type": "code",
   "execution_count": 13,
   "metadata": {
    "collapsed": false
   },
   "outputs": [],
   "source": [
    "## counting the number of body parts most reported\n",
    "\n",
    "data_result = data_merge[['body_part','BodyPart','trmt_date']].groupby(['body_part','BodyPart']).agg(['count'])"
   ]
  },
  {
   "cell_type": "code",
   "execution_count": 14,
   "metadata": {
    "collapsed": false
   },
   "outputs": [],
   "source": [
    "## resetting the index\n",
    "\n",
    "data_result = data_result.reset_index()"
   ]
  },
  {
   "cell_type": "code",
   "execution_count": 15,
   "metadata": {
    "collapsed": false
   },
   "outputs": [],
   "source": [
    "## put column names\n",
    "\n",
    "data_result.columns = ['Code','BodyPart','Count']"
   ]
  },
  {
   "cell_type": "code",
   "execution_count": 16,
   "metadata": {
    "collapsed": false
   },
   "outputs": [
    {
     "name": "stdout",
     "output_type": "stream",
     "text": [
      "<class 'pandas.core.frame.DataFrame'>\n",
      "RangeIndex: 26 entries, 0 to 25\n",
      "Data columns (total 3 columns):\n",
      "Code        26 non-null int64\n",
      "BodyPart    26 non-null object\n",
      "Count       26 non-null int64\n",
      "dtypes: int64(2), object(1)\n",
      "memory usage: 696.0+ bytes\n"
     ]
    }
   ],
   "source": [
    "## checking not null values\n",
    "\n",
    "data_result.info()"
   ]
  },
  {
   "cell_type": "code",
   "execution_count": 17,
   "metadata": {
    "collapsed": false
   },
   "outputs": [
    {
     "name": "stderr",
     "output_type": "stream",
     "text": [
      "/Users/bhagwatsinghbisht/anaconda/lib/python2.7/site-packages/ipykernel/__main__.py:1: FutureWarning: sort(columns=....) is deprecated, use sort_values(by=.....)\n",
      "  if __name__ == '__main__':\n",
      "/Users/bhagwatsinghbisht/anaconda/lib/python2.7/site-packages/ipykernel/__main__.py:2: FutureWarning: sort(columns=....) is deprecated, use sort_values(by=.....)\n",
      "  from ipykernel import kernelapp as app\n"
     ]
    }
   ],
   "source": [
    "Most_reported = data_result.sort('Count',ascending=False).head(3)['BodyPart']\n",
    "Least_reported = data_result.sort('Count',ascending=True).head(4)['BodyPart']"
   ]
  },
  {
   "cell_type": "markdown",
   "metadata": {},
   "source": [
    "# The solution is "
   ]
  },
  {
   "cell_type": "code",
   "execution_count": 18,
   "metadata": {
    "collapsed": false
   },
   "outputs": [
    {
     "name": "stdout",
     "output_type": "stream",
     "text": [
      "The top three body part reported are : \n",
      "Head\n",
      "Face\n",
      "Finger\n"
     ]
    }
   ],
   "source": [
    "print 'The top three body part reported are : '\n",
    "for i in Most_reported.values :\n",
    "    print i"
   ]
  },
  {
   "cell_type": "code",
   "execution_count": 19,
   "metadata": {
    "collapsed": false
   },
   "outputs": [
    {
     "name": "stdout",
     "output_type": "stream",
     "text": [
      "The least three reported body part are :\n",
      "25-50% of body\n",
      "Pubic region\n",
      "Not Recorded\n",
      "Internal\n"
     ]
    }
   ],
   "source": [
    "print 'The least three reported body part are :'\n",
    "for i in Least_reported.values :\n",
    "    print i"
   ]
  },
  {
   "cell_type": "markdown",
   "metadata": {},
   "source": [
    "# Observation : 'Not recorded' is not a body part , but we need to know how many obervation were not recorded, hence included in the  analysis , removing that the least three body parts reported which are 25-50% of body, Pubic region and Internal"
   ]
  },
  {
   "cell_type": "markdown",
   "metadata": {},
   "source": [
    "# Question 2\n",
    "How many injuries in this dataset involve a skateboard?\n",
    "Of those injuries, what percentage were male and what percentage were female?\n",
    "What was the average age of someone injured in an incident involving a skateboard?"
   ]
  },
  {
   "cell_type": "code",
   "execution_count": 20,
   "metadata": {
    "collapsed": false
   },
   "outputs": [],
   "source": [
    "## skate and skateboard are different according to the document 2016ComparabilityTable.pdf\n",
    "\n",
    "\n",
    "N_skate = N_data[N_data.narrative.str.contains('skateboard',case=False)]"
   ]
  },
  {
   "cell_type": "markdown",
   "metadata": {},
   "source": [
    "# Solution is "
   ]
  },
  {
   "cell_type": "code",
   "execution_count": 21,
   "metadata": {
    "collapsed": false
   },
   "outputs": [
    {
     "name": "stdout",
     "output_type": "stream",
     "text": [
      "Number of injuries in the dataset that involve a skateboard are 466\n"
     ]
    }
   ],
   "source": [
    "print ('Number of injuries in the dataset that involve a skateboard are {}').format(N_skate.narrative.count())"
   ]
  },
  {
   "cell_type": "code",
   "execution_count": 22,
   "metadata": {
    "collapsed": false
   },
   "outputs": [
    {
     "name": "stdout",
     "output_type": "stream",
     "text": [
      "Percentage of male with skateboard injury are 82.40%\n"
     ]
    }
   ],
   "source": [
    "print ('Percentage of male with skateboard injury are {0:.2f}%').format(N_skate[N_skate.sex=='Male'].count()[0]/np.float(N_skate.narrative.count())*100)"
   ]
  },
  {
   "cell_type": "code",
   "execution_count": 23,
   "metadata": {
    "collapsed": false
   },
   "outputs": [
    {
     "name": "stdout",
     "output_type": "stream",
     "text": [
      "Percentage of female with skateboard injury are 17.60%\n"
     ]
    }
   ],
   "source": [
    "print ('Percentage of female with skateboard injury are {0:.2f}%').format(N_skate[N_skate.sex=='Female'].count()[0]/np.float(N_skate.narrative.count())*100)"
   ]
  },
  {
   "cell_type": "code",
   "execution_count": 24,
   "metadata": {
    "collapsed": false
   },
   "outputs": [
    {
     "name": "stdout",
     "output_type": "stream",
     "text": [
      "The average age of the injured involving a skateboard is 17.99 \n"
     ]
    }
   ],
   "source": [
    "print ('The average age of the injured involving a skateboard is {0:.2f} ').format(N_skate.age.mean())"
   ]
  },
  {
   "cell_type": "markdown",
   "metadata": {},
   "source": [
    "# Question 3\n",
    "What diagnosis had the highest hospitalization rate? \n",
    "What diagnosis most often concluded with the individual leaving without being seen?\n",
    "Briefly discuss your findings and any caveats you'd mention when discussing this data\n"
   ]
  },
  {
   "cell_type": "code",
   "execution_count": 25,
   "metadata": {
    "collapsed": false
   },
   "outputs": [
    {
     "data": {
      "text/plain": [
       "False"
      ]
     },
     "execution_count": 25,
     "metadata": {},
     "output_type": "execute_result"
    }
   ],
   "source": [
    "## checking to see if any nan value is present in diagnosis column\n",
    "\n",
    "N_data.diag.hasnans"
   ]
  },
  {
   "cell_type": "code",
   "execution_count": 26,
   "metadata": {
    "collapsed": false
   },
   "outputs": [],
   "source": [
    "## joining the NEISS2014 data and Diagonis data for the analysis\n",
    "\n",
    "data_hosp = pd.merge(N_data,Dia_code, left_on=['diag'],right_on =['Code'] )"
   ]
  },
  {
   "cell_type": "code",
   "execution_count": 27,
   "metadata": {
    "collapsed": false
   },
   "outputs": [
    {
     "data": {
      "text/html": [
       "<div>\n",
       "<table border=\"1\" class=\"dataframe\">\n",
       "  <thead>\n",
       "    <tr style=\"text-align: right;\">\n",
       "      <th></th>\n",
       "      <th>Disposition</th>\n",
       "      <th>Code</th>\n",
       "    </tr>\n",
       "  </thead>\n",
       "  <tbody>\n",
       "    <tr>\n",
       "      <th>0</th>\n",
       "      <td>Treated and released, or examined and released...</td>\n",
       "      <td>1</td>\n",
       "    </tr>\n",
       "    <tr>\n",
       "      <th>1</th>\n",
       "      <td>Treated and transferred to another hospital</td>\n",
       "      <td>2</td>\n",
       "    </tr>\n",
       "    <tr>\n",
       "      <th>2</th>\n",
       "      <td>Treated and admitted for hospitalization (with...</td>\n",
       "      <td>4</td>\n",
       "    </tr>\n",
       "    <tr>\n",
       "      <th>3</th>\n",
       "      <td>Held for observation (includes admitted for ob...</td>\n",
       "      <td>5</td>\n",
       "    </tr>\n",
       "    <tr>\n",
       "      <th>4</th>\n",
       "      <td>Left without being seen/Left against medical a...</td>\n",
       "      <td>6</td>\n",
       "    </tr>\n",
       "    <tr>\n",
       "      <th>5</th>\n",
       "      <td>Fatality, including DOA, died in the ED</td>\n",
       "      <td>8</td>\n",
       "    </tr>\n",
       "    <tr>\n",
       "      <th>6</th>\n",
       "      <td>Not Recorded</td>\n",
       "      <td>9</td>\n",
       "    </tr>\n",
       "  </tbody>\n",
       "</table>\n",
       "</div>"
      ],
      "text/plain": [
       "                                         Disposition  Code\n",
       "0  Treated and released, or examined and released...     1\n",
       "1        Treated and transferred to another hospital     2\n",
       "2  Treated and admitted for hospitalization (with...     4\n",
       "3  Held for observation (includes admitted for ob...     5\n",
       "4  Left without being seen/Left against medical a...     6\n",
       "5            Fatality, including DOA, died in the ED     8\n",
       "6                                       Not Recorded     9"
      ]
     },
     "execution_count": 27,
     "metadata": {},
     "output_type": "execute_result"
    }
   ],
   "source": [
    "## checking disposition data\n",
    "\n",
    "Disposition"
   ]
  },
  {
   "cell_type": "markdown",
   "metadata": {},
   "source": [
    "# The disposition dataset contains code 4 which shows hospitalization and code 6 which shows patient left without being seen "
   ]
  },
  {
   "cell_type": "code",
   "execution_count": 28,
   "metadata": {
    "collapsed": false
   },
   "outputs": [],
   "source": [
    "## getting code 4 and code 6 into seperate datasets\n",
    "\n",
    "data_hosp1 = data_hosp[data_hosp.disposition==4].groupby(['diag','disposition']).count()\n",
    "data_hosp2 = data_hosp[data_hosp.disposition==6].groupby(['diag','disposition']).count()"
   ]
  },
  {
   "cell_type": "markdown",
   "metadata": {},
   "source": [
    "# Solution is "
   ]
  },
  {
   "cell_type": "code",
   "execution_count": 29,
   "metadata": {
    "collapsed": false
   },
   "outputs": [
    {
     "name": "stdout",
     "output_type": "stream",
     "text": [
      "The diagnosis having the highest hospitalization rate is :  Fracture\n"
     ]
    }
   ],
   "source": [
    "print 'The diagnosis having the highest hospitalization rate is : '\\\n",
    ",Dia_code[Dia_code.Code==data_hosp1.psu.argmax()[0]]['Diagnosis'].values[0]"
   ]
  },
  {
   "cell_type": "code",
   "execution_count": 30,
   "metadata": {
    "collapsed": false
   },
   "outputs": [
    {
     "name": "stdout",
     "output_type": "stream",
     "text": [
      "The diagnosis most often concluded with the individual leaving without being seen:  Other/Not Stated\n"
     ]
    }
   ],
   "source": [
    "print 'The diagnosis most often concluded with the individual leaving without being seen: '\\\n",
    ",Dia_code[Dia_code.Code==data_hosp2.psu.argmax()[0]]['Diagnosis'].values[0]"
   ]
  },
  {
   "cell_type": "markdown",
   "metadata": {},
   "source": [
    "# Analysis  :  The diagnosis most often concluding with the individual leaving without being seen is 'Other/Not stated' as no diagonis could be provided since the individual left without being seen"
   ]
  },
  {
   "cell_type": "markdown",
   "metadata": {},
   "source": [
    "# Question 4\n",
    "Visualize any existing relationship between age and reported injuries\n"
   ]
  },
  {
   "cell_type": "code",
   "execution_count": 32,
   "metadata": {
    "collapsed": false
   },
   "outputs": [],
   "source": [
    "## function to convert the age above 200 as 1 , I have taken all the observation below 2 year age as 1 yr for better \n",
    "## analysis instead of taking months\n",
    "\n",
    "def check(x):\n",
    "    if x>=200:\n",
    "        return 1\n",
    "    else:\n",
    "        return x"
   ]
  },
  {
   "cell_type": "code",
   "execution_count": 33,
   "metadata": {
    "collapsed": false
   },
   "outputs": [],
   "source": [
    "## considering the age bracket smaller than 2 year and younger as 1 for better analysis \n",
    "\n",
    "N_data['age'] = N_data.age.apply(check)"
   ]
  },
  {
   "cell_type": "code",
   "execution_count": 34,
   "metadata": {
    "collapsed": false
   },
   "outputs": [
    {
     "data": {
      "text/html": [
       "<div>\n",
       "<table border=\"1\" class=\"dataframe\">\n",
       "  <thead>\n",
       "    <tr style=\"text-align: right;\">\n",
       "      <th></th>\n",
       "      <th>CPSC Case #</th>\n",
       "      <th>psu</th>\n",
       "      <th>weight</th>\n",
       "      <th>age</th>\n",
       "      <th>diag</th>\n",
       "      <th>body_part</th>\n",
       "      <th>disposition</th>\n",
       "      <th>location</th>\n",
       "      <th>fmv</th>\n",
       "      <th>prod1</th>\n",
       "      <th>prod2</th>\n",
       "    </tr>\n",
       "  </thead>\n",
       "  <tbody>\n",
       "    <tr>\n",
       "      <th>count</th>\n",
       "      <td>6.549900e+04</td>\n",
       "      <td>65499.000000</td>\n",
       "      <td>65499.000000</td>\n",
       "      <td>65499.000000</td>\n",
       "      <td>65499.000000</td>\n",
       "      <td>65499.000000</td>\n",
       "      <td>65499.000000</td>\n",
       "      <td>65499.000000</td>\n",
       "      <td>65499.000000</td>\n",
       "      <td>65499.000000</td>\n",
       "      <td>8446.000000</td>\n",
       "    </tr>\n",
       "    <tr>\n",
       "      <th>mean</th>\n",
       "      <td>1.411328e+08</td>\n",
       "      <td>46.551321</td>\n",
       "      <td>46.627602</td>\n",
       "      <td>31.494572</td>\n",
       "      <td>59.983618</td>\n",
       "      <td>64.188873</td>\n",
       "      <td>1.267775</td>\n",
       "      <td>2.403548</td>\n",
       "      <td>0.008122</td>\n",
       "      <td>2107.615735</td>\n",
       "      <td>1845.662207</td>\n",
       "    </tr>\n",
       "    <tr>\n",
       "      <th>std</th>\n",
       "      <td>1.993606e+06</td>\n",
       "      <td>27.253670</td>\n",
       "      <td>35.649986</td>\n",
       "      <td>25.966206</td>\n",
       "      <td>6.133152</td>\n",
       "      <td>24.066252</td>\n",
       "      <td>0.918464</td>\n",
       "      <td>3.194460</td>\n",
       "      <td>0.141298</td>\n",
       "      <td>1334.875187</td>\n",
       "      <td>1104.161811</td>\n",
       "    </tr>\n",
       "    <tr>\n",
       "      <th>min</th>\n",
       "      <td>1.401047e+08</td>\n",
       "      <td>1.000000</td>\n",
       "      <td>5.717400</td>\n",
       "      <td>0.000000</td>\n",
       "      <td>41.000000</td>\n",
       "      <td>0.000000</td>\n",
       "      <td>1.000000</td>\n",
       "      <td>0.000000</td>\n",
       "      <td>0.000000</td>\n",
       "      <td>106.000000</td>\n",
       "      <td>102.000000</td>\n",
       "    </tr>\n",
       "    <tr>\n",
       "      <th>25%</th>\n",
       "      <td>1.404360e+08</td>\n",
       "      <td>23.000000</td>\n",
       "      <td>14.308900</td>\n",
       "      <td>10.000000</td>\n",
       "      <td>57.000000</td>\n",
       "      <td>35.000000</td>\n",
       "      <td>1.000000</td>\n",
       "      <td>0.000000</td>\n",
       "      <td>0.000000</td>\n",
       "      <td>1211.000000</td>\n",
       "      <td>1141.000000</td>\n",
       "    </tr>\n",
       "    <tr>\n",
       "      <th>50%</th>\n",
       "      <td>1.407254e+08</td>\n",
       "      <td>42.000000</td>\n",
       "      <td>37.414900</td>\n",
       "      <td>23.000000</td>\n",
       "      <td>59.000000</td>\n",
       "      <td>75.000000</td>\n",
       "      <td>1.000000</td>\n",
       "      <td>1.000000</td>\n",
       "      <td>0.000000</td>\n",
       "      <td>1807.000000</td>\n",
       "      <td>1807.000000</td>\n",
       "    </tr>\n",
       "    <tr>\n",
       "      <th>75%</th>\n",
       "      <td>1.410314e+08</td>\n",
       "      <td>66.000000</td>\n",
       "      <td>81.576000</td>\n",
       "      <td>51.000000</td>\n",
       "      <td>64.000000</td>\n",
       "      <td>82.000000</td>\n",
       "      <td>1.000000</td>\n",
       "      <td>4.000000</td>\n",
       "      <td>0.000000</td>\n",
       "      <td>3265.000000</td>\n",
       "      <td>1871.000000</td>\n",
       "    </tr>\n",
       "    <tr>\n",
       "      <th>max</th>\n",
       "      <td>1.503320e+08</td>\n",
       "      <td>101.000000</td>\n",
       "      <td>112.167100</td>\n",
       "      <td>105.000000</td>\n",
       "      <td>74.000000</td>\n",
       "      <td>94.000000</td>\n",
       "      <td>8.000000</td>\n",
       "      <td>9.000000</td>\n",
       "      <td>3.000000</td>\n",
       "      <td>5555.000000</td>\n",
       "      <td>5555.000000</td>\n",
       "    </tr>\n",
       "  </tbody>\n",
       "</table>\n",
       "</div>"
      ],
      "text/plain": [
       "        CPSC Case #           psu        weight           age          diag  \\\n",
       "count  6.549900e+04  65499.000000  65499.000000  65499.000000  65499.000000   \n",
       "mean   1.411328e+08     46.551321     46.627602     31.494572     59.983618   \n",
       "std    1.993606e+06     27.253670     35.649986     25.966206      6.133152   \n",
       "min    1.401047e+08      1.000000      5.717400      0.000000     41.000000   \n",
       "25%    1.404360e+08     23.000000     14.308900     10.000000     57.000000   \n",
       "50%    1.407254e+08     42.000000     37.414900     23.000000     59.000000   \n",
       "75%    1.410314e+08     66.000000     81.576000     51.000000     64.000000   \n",
       "max    1.503320e+08    101.000000    112.167100    105.000000     74.000000   \n",
       "\n",
       "          body_part   disposition      location           fmv         prod1  \\\n",
       "count  65499.000000  65499.000000  65499.000000  65499.000000  65499.000000   \n",
       "mean      64.188873      1.267775      2.403548      0.008122   2107.615735   \n",
       "std       24.066252      0.918464      3.194460      0.141298   1334.875187   \n",
       "min        0.000000      1.000000      0.000000      0.000000    106.000000   \n",
       "25%       35.000000      1.000000      0.000000      0.000000   1211.000000   \n",
       "50%       75.000000      1.000000      1.000000      0.000000   1807.000000   \n",
       "75%       82.000000      1.000000      4.000000      0.000000   3265.000000   \n",
       "max       94.000000      8.000000      9.000000      3.000000   5555.000000   \n",
       "\n",
       "             prod2  \n",
       "count  8446.000000  \n",
       "mean   1845.662207  \n",
       "std    1104.161811  \n",
       "min     102.000000  \n",
       "25%    1141.000000  \n",
       "50%    1807.000000  \n",
       "75%    1871.000000  \n",
       "max    5555.000000  "
      ]
     },
     "execution_count": 34,
     "metadata": {},
     "output_type": "execute_result"
    }
   ],
   "source": [
    "N_data.describe()"
   ]
  },
  {
   "cell_type": "code",
   "execution_count": 35,
   "metadata": {
    "collapsed": false
   },
   "outputs": [],
   "source": [
    "## getting the age with the number of reported cases\n",
    "\n",
    "N_age = pd.DataFrame(N_data.age.value_counts())"
   ]
  },
  {
   "cell_type": "code",
   "execution_count": 36,
   "metadata": {
    "collapsed": false
   },
   "outputs": [],
   "source": [
    "N_age = N_age.reset_index()\n",
    "N_age.columns = ['age','count']"
   ]
  },
  {
   "cell_type": "code",
   "execution_count": 37,
   "metadata": {
    "collapsed": false
   },
   "outputs": [],
   "source": [
    "# Saving any typo\n",
    "\n",
    "N_age.rename(columns = {'age':'x','count':'y'}, inplace=True)\n",
    "#because there are not many datapoints i can print all nonnull ones\n"
   ]
  },
  {
   "cell_type": "code",
   "execution_count": 38,
   "metadata": {
    "collapsed": false
   },
   "outputs": [
    {
     "data": {
      "text/html": [
       "<div>\n",
       "<table border=\"1\" class=\"dataframe\">\n",
       "  <thead>\n",
       "    <tr style=\"text-align: right;\">\n",
       "      <th></th>\n",
       "      <th>x</th>\n",
       "      <th>y</th>\n",
       "    </tr>\n",
       "  </thead>\n",
       "  <tbody>\n",
       "    <tr>\n",
       "      <th>count</th>\n",
       "      <td>105.000000</td>\n",
       "      <td>105.000000</td>\n",
       "    </tr>\n",
       "    <tr>\n",
       "      <th>mean</th>\n",
       "      <td>52.009524</td>\n",
       "      <td>623.800000</td>\n",
       "    </tr>\n",
       "    <tr>\n",
       "      <th>std</th>\n",
       "      <td>30.471454</td>\n",
       "      <td>537.525409</td>\n",
       "    </tr>\n",
       "    <tr>\n",
       "      <th>min</th>\n",
       "      <td>0.000000</td>\n",
       "      <td>1.000000</td>\n",
       "    </tr>\n",
       "    <tr>\n",
       "      <th>25%</th>\n",
       "      <td>26.000000</td>\n",
       "      <td>324.000000</td>\n",
       "    </tr>\n",
       "    <tr>\n",
       "      <th>50%</th>\n",
       "      <td>52.000000</td>\n",
       "      <td>502.000000</td>\n",
       "    </tr>\n",
       "    <tr>\n",
       "      <th>75%</th>\n",
       "      <td>78.000000</td>\n",
       "      <td>704.000000</td>\n",
       "    </tr>\n",
       "    <tr>\n",
       "      <th>max</th>\n",
       "      <td>105.000000</td>\n",
       "      <td>3606.000000</td>\n",
       "    </tr>\n",
       "  </tbody>\n",
       "</table>\n",
       "</div>"
      ],
      "text/plain": [
       "                x            y\n",
       "count  105.000000   105.000000\n",
       "mean    52.009524   623.800000\n",
       "std     30.471454   537.525409\n",
       "min      0.000000     1.000000\n",
       "25%     26.000000   324.000000\n",
       "50%     52.000000   502.000000\n",
       "75%     78.000000   704.000000\n",
       "max    105.000000  3606.000000"
      ]
     },
     "execution_count": 38,
     "metadata": {},
     "output_type": "execute_result"
    }
   ],
   "source": [
    "N_age.describe()"
   ]
  },
  {
   "cell_type": "code",
   "execution_count": 39,
   "metadata": {
    "collapsed": false
   },
   "outputs": [
    {
     "name": "stdout",
     "output_type": "stream",
     "text": [
      "                            OLS Regression Results                            \n",
      "==============================================================================\n",
      "Dep. Variable:                      y   R-squared:                       0.622\n",
      "Model:                            OLS   Adj. R-squared:                  0.619\n",
      "Method:                 Least Squares   F-statistic:                     169.7\n",
      "Date:                Sat, 28 May 2016   Prob (F-statistic):           1.67e-23\n",
      "Time:                        14:00:03   Log-Likelihood:                -757.51\n",
      "No. Observations:                 105   AIC:                             1519.\n",
      "Df Residuals:                     103   BIC:                             1524.\n",
      "Df Model:                           1                                         \n",
      "Covariance Type:            nonrobust                                         \n",
      "==============================================================================\n",
      "                 coef    std err          t      P>|t|      [95.0% Conf. Int.]\n",
      "------------------------------------------------------------------------------\n",
      "Intercept   1347.5163     64.317     20.951      0.000      1219.958  1475.074\n",
      "x             -6.9575      0.534    -13.025      0.000        -8.017    -5.898\n",
      "I((x))        -6.9575      0.534    -13.025      0.000        -8.017    -5.898\n",
      "==============================================================================\n",
      "Omnibus:                       98.204   Durbin-Watson:                   0.479\n",
      "Prob(Omnibus):                  0.000   Jarque-Bera (JB):             2268.123\n",
      "Skew:                           2.685   Prob(JB):                         0.00\n",
      "Kurtosis:                      25.127   Cond. No.                     7.52e+16\n",
      "==============================================================================\n",
      "\n",
      "Warnings:\n",
      "[1] Standard Errors assume that the covariance matrix of the errors is correctly specified.\n",
      "[2] The smallest eigenvalue is 1.35e-28. This might indicate that there are\n",
      "strong multicollinearity problems or that the design matrix is singular.\n"
     ]
    }
   ],
   "source": [
    "## applying OLS method \n",
    "\n",
    "result1deg = sm.ols(formula = 'y ~ x + I((x))', data=N_age).fit()\n",
    "print (result1deg.summary())\n"
   ]
  },
  {
   "cell_type": "markdown",
   "metadata": {},
   "source": [
    "# observation : The coefficient  value from the linear regression is -6.9575 with an intercept value of 1347.52, the p value of 0 shows strong influence on the number of accident reported by the age of the patient,  A R square value and adjusted r square value of .622 and .61  is a decent value for the model to be considered.\n",
    "\n",
    "# Limitation : The number of observation were few , if we could have data for 10 year or so , we could have a better model"
   ]
  },
  {
   "cell_type": "code",
   "execution_count": 40,
   "metadata": {
    "collapsed": false
   },
   "outputs": [
    {
     "data": {
      "image/png": "[encoded data removed]",
      "text/plain": [
       "<matplotlib.figure.Figure at 0x10c2e8a90>"
      ]
     },
     "metadata": {},
     "output_type": "display_data"
    }
   ],
   "source": [
    "plt.figure(figsize=(15,15))\n",
    "plt.plot(N_age.x, N_age.y, 'k.', markersize=15)\n",
    "plt.plot(N_age.x[N_age.y.notnull() & N_age.x.notnull() ], \n",
    "        result1deg.predict(), lw = 3, label=\"line fit\")\n",
    "plt.title('Plotting of Number of injury vs age')\n",
    "plt.xticks(range(1,120,3))\n",
    "plt.ylim(-10,4000)\n",
    "plt.yticks(range(0,4000,250))\n",
    "plt.xlabel(\"Age of the subject\", fontsize=20)\n",
    "plt.ylabel(\"Number of injury reported for the age\", fontsize=20)\n",
    "plt.legend(fontsize=15, loc=1)\n",
    "plt.grid()"
   ]
  },
  {
   "cell_type": "markdown",
   "metadata": {},
   "source": [
    "# Observation : Hence we can see that for every one unit increase in the age the number accidents that are reported decreases by a factor of 6. 96 for a given year, in this case its 2014"
   ]
  },
  {
   "cell_type": "markdown",
   "metadata": {},
   "source": [
    "# The equation we have is which relate age and accident reported is\n",
    "\n",
    "##  Number of  accidents reported = 1347.5 - 6.957 * (Age of the person)\n"
   ]
  },
  {
   "cell_type": "markdown",
   "metadata": {},
   "source": [
    "# Question 5+\n",
    "Investigate the data however you like and discuss any interesting insights you can find in the data"
   ]
  },
  {
   "cell_type": "code",
   "execution_count": 41,
   "metadata": {
    "collapsed": false
   },
   "outputs": [
    {
     "data": {
      "text/plain": [
       "array([   5.7174,    6.6704,   14.3089,   15.6716,   37.4149,   41.0402,\n",
       "         45.1442,   50.1602,   56.4302,   74.3851,   80.0213,   81.576 ,\n",
       "         82.3076,   87.296 ,   89.7336,   99.704 ,  112.1671])"
      ]
     },
     "execution_count": 41,
     "metadata": {},
     "output_type": "execute_result"
    }
   ],
   "source": [
    "## The weight also have a pattern to show.\n",
    "\n",
    "np.sort(N_data.weight.unique())"
   ]
  },
  {
   "cell_type": "code",
   "execution_count": 42,
   "metadata": {
    "collapsed": false
   },
   "outputs": [],
   "source": [
    "N_weight = pd.DataFrame(N_data.weight.value_counts())\n",
    "N_weight = N_weight.reset_index()\n",
    "N_weight.columns = ['weight','count']\n"
   ]
  },
  {
   "cell_type": "code",
   "execution_count": 43,
   "metadata": {
    "collapsed": false
   },
   "outputs": [
    {
     "data": {
      "image/png": "[encoded data removed]",
      "text/plain": [
       "<matplotlib.figure.Figure at 0x10bc26050>"
      ]
     },
     "metadata": {},
     "output_type": "display_data"
    }
   ],
   "source": [
    "N_weight.plot(kind='scatter',x='weight',y='count',figsize=(10,10),fontsize=10)\n",
    "plt.grid()"
   ]
  },
  {
   "cell_type": "markdown",
   "metadata": {},
   "source": [
    "# Observation  :  The weight values are very unique for a 65k dataset , there is no specific trend to observe, but those individuals in weight range between 80 to 100 reported are as prone to accident as are very low weight individual "
   ]
  },
  {
   "cell_type": "code",
   "execution_count": 44,
   "metadata": {
    "collapsed": false
   },
   "outputs": [
    {
     "data": {
      "text/plain": [
       "White                               31676\n",
       "None listed                         19593\n",
       "Black/African American               9935\n",
       "Other / Mixed Race                   3389\n",
       "Asian                                 621\n",
       "American Indian/Alaska Native         249\n",
       "Native Hawaiian/Pacific Islander       36\n",
       "Name: race, dtype: int64"
      ]
     },
     "execution_count": 44,
     "metadata": {},
     "output_type": "execute_result"
    }
   ],
   "source": [
    "N_data.race.value_counts()"
   ]
  },
  {
   "cell_type": "markdown",
   "metadata": {},
   "source": [
    "# Observation : The white population has reported more accidents as compared to any other race."
   ]
  },
  {
   "cell_type": "code",
   "execution_count": 45,
   "metadata": {
    "collapsed": false
   },
   "outputs": [],
   "source": [
    "## getting the day out of the date column\n",
    "\n",
    "N_data['day'] = N_data.trmt_date.dt.dayofweek"
   ]
  },
  {
   "cell_type": "code",
   "execution_count": 46,
   "metadata": {
    "collapsed": false
   },
   "outputs": [
    {
     "data": {
      "text/plain": [
       "5    9956\n",
       "6    9872\n",
       "0    9656\n",
       "1    9088\n",
       "2    9021\n",
       "3    9019\n",
       "4    8887\n",
       "Name: day, dtype: int64"
      ]
     },
     "execution_count": 46,
     "metadata": {},
     "output_type": "execute_result"
    }
   ],
   "source": [
    "##The day of the week with Monday=0, Sunday=6\n",
    "\n",
    "N_data.day.value_counts()"
   ]
  },
  {
   "cell_type": "markdown",
   "metadata": {},
   "source": [
    "# Observation : The number of accident reported is maximum for Sunday and Saturday "
   ]
  },
  {
   "cell_type": "code",
   "execution_count": 47,
   "metadata": {
    "collapsed": false
   },
   "outputs": [
    {
     "data": {
      "text/plain": [
       "Male      35503\n",
       "Female    29996\n",
       "Name: sex, dtype: int64"
      ]
     },
     "execution_count": 47,
     "metadata": {},
     "output_type": "execute_result"
    }
   ],
   "source": [
    "N_data.sex.value_counts()"
   ]
  },
  {
   "cell_type": "markdown",
   "metadata": {},
   "source": [
    "# Observation : The difference between number of male and number of female reporting injuries is not high . Though in the present dataset , number of males reporting an injury is higher than female"
   ]
  },
  {
   "cell_type": "code",
   "execution_count": 48,
   "metadata": {
    "collapsed": false
   },
   "outputs": [
    {
     "data": {
      "text/plain": [
       "1    28953\n",
       "0    19245\n",
       "9     8360\n",
       "5     4072\n",
       "8     3348\n",
       "4     1483\n",
       "2       18\n",
       "6       15\n",
       "7        5\n",
       "Name: location, dtype: int64"
      ]
     },
     "execution_count": 48,
     "metadata": {},
     "output_type": "execute_result"
    }
   ],
   "source": [
    "## location code  taking top 4: 0-Not recorder 1 - home, 9 - place of recreation and sports \n",
    "## source : NEISS coding manual \n",
    "\n",
    "N_data.location.value_counts()"
   ]
  },
  {
   "cell_type": "markdown",
   "metadata": {},
   "source": [
    "# Observation : Most of the injuries observed at home followed by place of recreation and sports "
   ]
  },
  {
   "cell_type": "code",
   "execution_count": 49,
   "metadata": {
    "collapsed": false
   },
   "outputs": [],
   "source": [
    "N_sex = pd.DataFrame(N_data.groupby(['sex','location'])['age'].count()).reset_index().rename(columns={'age':'count'})"
   ]
  },
  {
   "cell_type": "code",
   "execution_count": 50,
   "metadata": {
    "collapsed": false
   },
   "outputs": [
    {
     "name": "stderr",
     "output_type": "stream",
     "text": [
      "/Users/bhagwatsinghbisht/anaconda/lib/python2.7/site-packages/ipykernel/__main__.py:3: FutureWarning: sort(columns=....) is deprecated, use sort_values(by=.....)\n",
      "  app.launch_new_instance()\n"
     ]
    },
    {
     "data": {
      "text/html": [
       "<div>\n",
       "<table border=\"1\" class=\"dataframe\">\n",
       "  <thead>\n",
       "    <tr style=\"text-align: right;\">\n",
       "      <th></th>\n",
       "      <th>sex</th>\n",
       "      <th>location</th>\n",
       "      <th>count</th>\n",
       "    </tr>\n",
       "  </thead>\n",
       "  <tbody>\n",
       "    <tr>\n",
       "      <th>1</th>\n",
       "      <td>Female</td>\n",
       "      <td>1</td>\n",
       "      <td>15012</td>\n",
       "    </tr>\n",
       "    <tr>\n",
       "      <th>10</th>\n",
       "      <td>Male</td>\n",
       "      <td>1</td>\n",
       "      <td>13941</td>\n",
       "    </tr>\n",
       "    <tr>\n",
       "      <th>17</th>\n",
       "      <td>Male</td>\n",
       "      <td>9</td>\n",
       "      <td>5625</td>\n",
       "    </tr>\n",
       "    <tr>\n",
       "      <th>8</th>\n",
       "      <td>Female</td>\n",
       "      <td>9</td>\n",
       "      <td>2735</td>\n",
       "    </tr>\n",
       "    <tr>\n",
       "      <th>4</th>\n",
       "      <td>Female</td>\n",
       "      <td>5</td>\n",
       "      <td>2280</td>\n",
       "    </tr>\n",
       "    <tr>\n",
       "      <th>16</th>\n",
       "      <td>Male</td>\n",
       "      <td>8</td>\n",
       "      <td>2010</td>\n",
       "    </tr>\n",
       "  </tbody>\n",
       "</table>\n",
       "</div>"
      ],
      "text/plain": [
       "       sex  location  count\n",
       "1   Female         1  15012\n",
       "10    Male         1  13941\n",
       "17    Male         9   5625\n",
       "8   Female         9   2735\n",
       "4   Female         5   2280\n",
       "16    Male         8   2010"
      ]
     },
     "execution_count": 50,
     "metadata": {},
     "output_type": "execute_result"
    }
   ],
   "source": [
    "## not taking unknown location into consideration \n",
    "\n",
    "N_sex[N_sex.location<>0].sort('count',ascending=False)[:6]"
   ]
  },
  {
   "cell_type": "markdown",
   "metadata": {},
   "source": [
    "# Observation : More female get injured at home as compared to Male and more Male get injured in place of recreation and sports as compared to Female "
   ]
  },
  {
   "cell_type": "markdown",
   "metadata": {},
   "source": [
    "\n",
    "# Limitation : Larger data set could have helping building good model to see relationship between age and injuries "
   ]
  },
  {
   "cell_type": "code",
   "execution_count": null,
   "metadata": {
    "collapsed": true
   },
   "outputs": [],
   "source": []
  }
 ],
 "metadata": {
  "kernelspec": {
   "display_name": "Python 2",
   "language": "python",
   "name": "python2"
  },
  "language_info": {
   "codemirror_mode": {
    "name": "ipython",
    "version": 2
   },
   "file_extension": ".py",
   "mimetype": "text/x-python",
   "name": "python",
   "nbconvert_exporter": "python",
   "pygments_lexer": "ipython2",
   "version": "2.7.11"
  }
 },
 "nbformat": 4,
 "nbformat_minor": 0
}
